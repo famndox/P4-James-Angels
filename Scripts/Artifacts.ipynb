{
 "cells": [
  {
   "cell_type": "code",
   "execution_count": 1,
   "id": "eb49514e-f3e8-473b-99ca-43e4b303976f",
   "metadata": {},
   "outputs": [],
   "source": [
    "# Courtesy of <Packt> https://hub.packtpub.com/tensorflow-lstm-that-writes-stories-tutorial/\n",
    "# Attempted their tutorial too, but using an older tensorflow version, well - I'll attempt the theory\n",
    "#\n",
    "# Definitely used their code to compile 100 x Brothers Grimm Tales\n",
    "#\n",
    "# Added concatonation script to consolidate into a sintle text file as used for scratch work"
   ]
  },
  {
   "cell_type": "code",
   "execution_count": null,
   "id": "8f5a75e6-c74d-43ba-aaae-dcc95374ef38",
   "metadata": {},
   "outputs": [],
   "source": [
    "\"\"\"\n",
    "url = 'https://www.cs.cmu.edu/~spok/grimmtmp/'\n",
    "\n",
    "# Create a directory if needed\n",
    "dir_name = 'stories'\n",
    "if not os.path.exists(dir_name):\n",
    "    os.mkdir(dir_name)\n",
    "    \n",
    "def maybe_download(filename):\n",
    "  \"\"\"Download a file if not present\"\"\"\n",
    "  print('Downloading file: ', dir_name+ os.sep+filename)\n",
    "    \n",
    "  if not os.path.exists(dir_name+os.sep+filename):\n",
    "    filename, _ = urlretrieve(url + filename, dir_name+os.sep+filename)\n",
    "  else:\n",
    "    print('File ',filename, ' already exists.')\n",
    "  \n",
    "  return filename\n",
    "\n",
    "num_files = 100\n",
    "filenames = [format(i, '03d')+'.txt' for i in range(1,101)]\n",
    "\n",
    "for fn in filenames:\n",
    "    maybe_download(fn)\n",
    "\"\"\""
   ]
  },
  {
   "cell_type": "code",
   "execution_count": null,
   "id": "00bd1123-f1f9-4127-b868-8d8615bb1f73",
   "metadata": {},
   "outputs": [],
   "source": [
    "\"\"\"\n",
    "dir_name = '../stories'\n",
    "num_files = 100\n",
    "filenames = [format(i, '03d')+'.txt' for i in range(1,101)]\n",
    "\n",
    "# Set the input and output file paths\n",
    "input_dir = dir_name\n",
    "output_file = './grimm.txt'\n",
    "files = [f for f in os.listdir(input_dir) if f.endswith('.txt')]\n",
    "\n",
    "# Open the output file in write mode\n",
    "with open(output_file, 'w') as outfile:\n",
    "    # Iterate over the input files and append their contents to the output file\n",
    "    for file in files[:100]:  # Take only the first 100 files\n",
    "        with open(os.path.join(input_dir, file), 'r') as infile:\n",
    "            outfile.write(infile.read() + '\\n')  # Add a newline character between files\n",
    "\n",
    "print(f\"Appended {len(files)} files to {output_file}\")\n",
    "\"\"\"\n",
    "# Output: Appended 100 files to ./grimm.txt"
   ]
  }
 ],
 "metadata": {
  "kernelspec": {
   "display_name": "Python 3 (ipykernel)",
   "language": "python",
   "name": "python3"
  },
  "language_info": {
   "codemirror_mode": {
    "name": "ipython",
    "version": 3
   },
   "file_extension": ".py",
   "mimetype": "text/x-python",
   "name": "python",
   "nbconvert_exporter": "python",
   "pygments_lexer": "ipython3",
   "version": "3.11.7"
  }
 },
 "nbformat": 4,
 "nbformat_minor": 5
}
